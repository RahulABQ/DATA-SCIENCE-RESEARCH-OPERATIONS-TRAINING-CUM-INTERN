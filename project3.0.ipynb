{
 "cells": [
  {
   "cell_type": "markdown",
   "id": "8472fab7",
   "metadata": {},
   "source": [
    "# MULTIPLICATION TABLE"
   ]
  },
  {
   "cell_type": "code",
   "execution_count": 1,
   "id": "4ead66b2",
   "metadata": {},
   "outputs": [
    {
     "name": "stdout",
     "output_type": "stream",
     "text": [
      "SIMPLE MULTIPLICATION TABLE\n",
      "\n",
      "*************************\n",
      "ENTER ANY NUMBER\n",
      "200\n",
      "200 X 1 = 200\n",
      "200 X 2 = 400\n",
      "200 X 3 = 600\n",
      "200 X 4 = 800\n",
      "200 X 5 = 1000\n",
      "200 X 6 = 1200\n",
      "200 X 7 = 1400\n",
      "200 X 8 = 1600\n",
      "200 X 9 = 1800\n",
      "200 X 10 = 2000\n",
      "200 X 11 = 2200\n",
      "200 X 12 = 2400\n"
     ]
    }
   ],
   "source": [
    "print(\"SIMPLE MULTIPLICATION TABLE\\n\")\n",
    "print(\"*\"*25)\n",
    "num= int(input(\"ENTER ANY NUMBER\\n\"))\n",
    "\n",
    "i=1\n",
    "while(i<=12):\n",
    "    print(num,\"X\",i,\"=\",num*i)\n",
    "    i=i+1\n",
    "    \n",
    "    \n",
    "    \n",
    "    \n"
   ]
  },
  {
   "cell_type": "code",
   "execution_count": null,
   "id": "1116d998",
   "metadata": {},
   "outputs": [],
   "source": []
  }
 ],
 "metadata": {
  "kernelspec": {
   "display_name": "Python 3 (ipykernel)",
   "language": "python",
   "name": "python3"
  },
  "language_info": {
   "codemirror_mode": {
    "name": "ipython",
    "version": 3
   },
   "file_extension": ".py",
   "mimetype": "text/x-python",
   "name": "python",
   "nbconvert_exporter": "python",
   "pygments_lexer": "ipython3",
   "version": "3.9.7"
  }
 },
 "nbformat": 4,
 "nbformat_minor": 5
}
