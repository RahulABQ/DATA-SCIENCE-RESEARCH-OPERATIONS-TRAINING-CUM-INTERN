{
 "cells": [
  {
   "cell_type": "code",
   "execution_count": 6,
   "id": "d799110f",
   "metadata": {},
   "outputs": [
    {
     "name": "stdout",
     "output_type": "stream",
     "text": [
      "Enter your First name \n",
      "RAHUL\n",
      "Enter your Last name\n",
      "KALITA\n",
      "Enter your program\n",
      "MCA\n",
      "Enter your Specialization\n",
      "AI ,ML\n",
      "Enter your Enrolmentnumber\n",
      "847474747\n",
      "Enter your Semester\n",
      "1\n",
      "Enter your batch\n",
      "2021\n",
      "Enter your Suject1\n",
      "PYTHON\n",
      "Enter your Subject2 \n",
      "JAVA\n",
      "Enter your Subject3\n",
      "OS\n",
      "Enter Percentage\n",
      "75.74\n"
     ]
    }
   ],
   "source": [
    "name1 = str (input(\"Enter your First name \\n\"))\n",
    "name2 = str (input(\"Enter your Last name\\n\"))\n",
    "program = str (input(\"Enter your program\\n\"))\n",
    "specialization = str (input(\"Enter your Specialization\\n\"))\n",
    "enrolmentnumber = int (input(\"Enter your Enrolmentnumber\\n\"))\n",
    "semester = int (input(\"Enter your Semester\\n\"))\n",
    "batch = int (input(\"Enter your batch\\n\"))\n",
    "sub1 = str (input(\"Enter your Suject1\\n\"))\n",
    "sub2 = str (input(\"Enter your Subject2 \\n\"))\n",
    "sub3 = str (input(\"Enter your Subject3\\n\"))\n",
    "percent = float (input(\"Enter Percentage\\n\"))\n"
   ]
  },
  {
   "cell_type": "code",
   "execution_count": null,
   "id": "ab4bc63a",
   "metadata": {},
   "outputs": [],
   "source": []
  }
 ],
 "metadata": {
  "kernelspec": {
   "display_name": "Python 3 (ipykernel)",
   "language": "python",
   "name": "python3"
  },
  "language_info": {
   "codemirror_mode": {
    "name": "ipython",
    "version": 3
   },
   "file_extension": ".py",
   "mimetype": "text/x-python",
   "name": "python",
   "nbconvert_exporter": "python",
   "pygments_lexer": "ipython3",
   "version": "3.9.7"
  }
 },
 "nbformat": 4,
 "nbformat_minor": 5
}
