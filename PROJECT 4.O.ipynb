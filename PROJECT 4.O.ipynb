{
 "cells": [
  {
   "cell_type": "markdown",
   "id": "455bc208",
   "metadata": {},
   "source": [
    "# REAL CALCULATOR"
   ]
  },
  {
   "cell_type": "code",
   "execution_count": 1,
   "id": "81d849ef",
   "metadata": {},
   "outputs": [
    {
     "name": "stdout",
     "output_type": "stream",
     "text": [
      "THIS IS REAL CALCULATOR\n",
      "ENTER YOUR FIRST NUMBER15\n",
      "ENTER YOUR SECOND NUMBER5\n",
      "ENTER THE OPERATIONS U WANT TO PERFORM*\n",
      "product of 15 and 5 = 75\n",
      "ENTER YOUR FIRST NUMBER25\n",
      "ENTER YOUR SECOND NUMBER5\n",
      "ENTER THE OPERATIONS U WANT TO PERFORM+\n",
      "sum of 25 and 5 = 30\n",
      "ENTER YOUR FIRST NUMBER30\n",
      "ENTER YOUR SECOND NUMBER5\n",
      "ENTER THE OPERATIONS U WANT TO PERFORM-\n",
      "difference of 30 and 5 = 25\n",
      "ENTER YOUR FIRST NUMBER50\n",
      "ENTER YOUR SECOND NUMBER30\n",
      "ENTER THE OPERATIONS U WANT TO PERFORM+\n",
      "sum of 50 and 30 = 80\n",
      "ENTER YOUR FIRST NUMBER35\n",
      "ENTER YOUR SECOND NUMBER8\n",
      "ENTER THE OPERATIONS U WANT TO PERFORM#\n",
      "ERROR!! YOU HAVE ENTERED WRONG OPERATOR\n"
     ]
    }
   ],
   "source": [
    "print(\"THIS IS REAL CALCULATOR\")\n",
    "def add(a,b):\n",
    "    print(\"sum of\",a,\"and\",b,\"=\",a+b)\n",
    "def substract(a,b):\n",
    "    print(\"difference of\",a,\"and\",b,\"=\",a-b)\n",
    "def multiply(a,b):\n",
    "    print(\"product of\",a,\"and\",b,\"=\",a*b)\n",
    "def divide(a,b):\n",
    "    peint(\"divison of\",a,\"and\",b,\"=\",a/b)\n",
    "i=1\n",
    "j=1\n",
    "while(i==j):\n",
    "    num1=int(input(\"ENTER YOUR FIRST NUMBER\"))\n",
    "    num2=int(input(\"ENTER YOUR SECOND NUMBER\"))\n",
    "    opr=str(input(\"ENTER THE OPERATIONS U WANT TO PERFORM\"))\n",
    "    if(opr==\"+\"):\n",
    "        add(num1,num2)\n",
    "    elif(opr==\"-\"):\n",
    "        substract(num1,num2)\n",
    "    elif(opr==\"*\"):\n",
    "        multiply(num1,num2)\n",
    "    elif(opr==\"/\"):\n",
    "        divide(num1,num2)\n",
    "    else:\n",
    "        print(\"ERROR!! YOU HAVE ENTERED WRONG OPERATOR\")\n",
    "        break\n",
    "        \n",
    "        \n",
    "       \n",
    "    \n",
    "      \n",
    "        \n",
    "    \n",
    "    \n"
   ]
  },
  {
   "cell_type": "code",
   "execution_count": null,
   "id": "797caafe",
   "metadata": {},
   "outputs": [],
   "source": []
  }
 ],
 "metadata": {
  "kernelspec": {
   "display_name": "Python 3 (ipykernel)",
   "language": "python",
   "name": "python3"
  },
  "language_info": {
   "codemirror_mode": {
    "name": "ipython",
    "version": 3
   },
   "file_extension": ".py",
   "mimetype": "text/x-python",
   "name": "python",
   "nbconvert_exporter": "python",
   "pygments_lexer": "ipython3",
   "version": "3.9.7"
  }
 },
 "nbformat": 4,
 "nbformat_minor": 5
}
